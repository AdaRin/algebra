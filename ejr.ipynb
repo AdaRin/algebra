{
 "cells": [
  {
   "cell_type": "code",
   "execution_count": null,
   "id": "d1799583",
   "metadata": {},
   "outputs": [],
   "source": [
    "import numpy as np\n",
    "import matplotlib.pyplot as plt\n",
    "from mpl_toolkits.mplot3d import Axes3D "
   ]
  },
  {
   "cell_type": "code",
   "execution_count": null,
   "id": "9a954ec8",
   "metadata": {},
   "outputs": [],
   "source": [
    "from pyparsing import C\n",
    "\n",
    "\n",
    "def distancia_plano(A,B):\n",
    "    return np.sqrt((B[0] - A[0])**2 + (B[1] - A[1])**2)\n",
    "\n",
    "def distancia_espacio(C,D):\n",
    "    return np.sqrt((D[0] - C[0])**2 + (D[1] - C[1])**2 + (D[2] - C[2])**2)\n",
    "\n",
    "A=np.array([1,2])\n",
    "B=np.array([4,6])\n",
    "\n",
    "C=np.array([1,2,3])\n",
    "D=np.array([4,6,8])\n",
    "\n",
    "distancia_AB = distancia_plano(A,B)\n",
    "distancia_CD = distancia_espacio(C,D)   \n",
    "\n",
    "print(\"Distancia entre A y B:\", distancia_AB)\n",
    "print(\"Distancia entre C y D:\", distancia_CD)\n",
    "# Graficar los puntos A y B en 2D"
   ]
  },
  {
   "cell_type": "code",
   "execution_count": null,
   "id": "01e6ed98",
   "metadata": {},
   "outputs": [],
   "source": [
    "plt.figure(figsize=(8, 6))  #para definir el tamaño\n",
    "\n",
    "plt.subplot(1, 2, 1)  # 1 fila, 2 columnas, primer subplot\n",
    "plt.plot([A[0], B[0]],[A[1], B[1]], 'ro-')  # 'ro-' para puntos rojos conectados por líneas\n",
    "plt.text(A[0], A[1], 'A', fontsize=12, ha='right')  \n",
    "plt.text(B[0], B[1], 'B', fontsize=12, ha='left')\n",
    "plt.title('Puntos y Rectas en el Plano') \n",
    "plt.xlabel('Eje X') \n",
    "plt.ylabel('Eje Y') \n",
    "plt.grid(True)  # Agregar una cuadrícula\n",
    " "
   ]
  },
  {
   "cell_type": "code",
   "execution_count": null,
   "id": "43bde020",
   "metadata": {},
   "outputs": [],
   "source": [
    "ax = plt.subplot(1, 2, 2, projection='3d')  # 1 fila, 2 columnas, segundo subplot con proyección 3D\n",
    "ax.plot([C[0], D[0]], [C[1], D[1]], [C[2], D[2]], 'bo-')  # 'bo-' para puntos azules conectados por líneas\n",
    "ax.text(C[0], C[1], C[2], 'C', fontsize=12, ha='right')\n",
    "ax.text(D[0], D[1], D[2], 'D', fontsize=12, ha='left')\n",
    "ax.set_title('Puntos y Rectas en el Espacio 3D')\n",
    "ax.set_xlabel('Eje X')\n",
    "ax.set_ylabel('Eje Y')\n",
    "ax.set_zlabel('Eje Z')\n",
    "\n",
    "plt.show()  # Mostrar la figura completa"
   ]
  },
  {
   "cell_type": "code",
   "execution_count": null,
   "id": "012c6316",
   "metadata": {},
   "outputs": [],
   "source": []
  }
 ],
 "metadata": {
  "kernelspec": {
   "display_name": "Python 3",
   "language": "python",
   "name": "python3"
  },
  "language_info": {
   "codemirror_mode": {
    "name": "ipython",
    "version": 3
   },
   "file_extension": ".py",
   "mimetype": "text/x-python",
   "name": "python",
   "nbconvert_exporter": "python",
   "pygments_lexer": "ipython3",
   "version": "3.13.2"
  }
 },
 "nbformat": 4,
 "nbformat_minor": 5
}
